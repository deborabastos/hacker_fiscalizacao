{
 "cells": [
  {
   "cell_type": "markdown",
   "metadata": {},
   "source": [
    "## Processo Seletivo: Hacker de Fiscalização e Análise de Dados do Gabinete Compartilhado"
   ]
  },
  {
   "cell_type": "markdown",
   "metadata": {},
   "source": [
    "### Problema:\n",
    "\n",
    "Crie um arquivo notebook contendo o código (preferencialmente em Python e com comentários) e uma discussão em texto que respondam ao enunciado abaixo.\n",
    "\n",
    "\"Baseado na tabela em CSV com a série histórica 'Remuneração líquida média mensal no Executivo civil federal ativo, por sexo e raça (1999-2020)', disponível no site do Atlas do Estado Brasileiro (IPEA), comente uma ou duas tendências da evolução da remuneração destes servidores de acordo com seu sexo e/ou raça.\""
   ]
  },
  {
   "cell_type": "markdown",
   "metadata": {},
   "source": [
    "### Importando biliotecas necessárias"
   ]
  },
  {
   "cell_type": "code",
   "execution_count": 1,
   "metadata": {},
   "outputs": [
    {
     "name": "stderr",
     "output_type": "stream",
     "text": [
      "UsageError: Line magic function `%matplotb` not found.\n"
     ]
    }
   ],
   "source": [
    "import os\n",
    "import csv\n",
    "import requests\n",
    "import numpy as np\n",
    "import pandas as pd\n",
    "import matplotlib.pyplot as plt\n",
    "\n",
    "%matplotb inline"
   ]
  },
  {
   "cell_type": "markdown",
   "metadata": {},
   "source": [
    "### Carregando dados"
   ]
  },
  {
   "cell_type": "code",
   "execution_count": 2,
   "metadata": {},
   "outputs": [
    {
     "name": "stdout",
     "output_type": "stream",
     "text": [
      "Arquivo já exite\n"
     ]
    }
   ],
   "source": [
    "# Verifica se arquivo contendo dados exite. \n",
    "# Caso não exista, faz download no site do IPEA (https://www.ipea.gov.br/atlasestado/arquivos/downloads/5233-liquidosexoraca.csv)\n",
    "if os.path.isfile('./data/5233-liquidosexoraca.csv'):\n",
    "    print('Arquivo já exite')\n",
    "else:\n",
    "    print('Download do arquivo')\n",
    "    data_url = 'https://www.ipea.gov.br/atlasestado/arquivos/downloads/5233-liquidosexoraca.csv'\n",
    "    df = pd.read_csv(data_url, sep=\";\", encoding='utf-8')\n",
    "    df.to_csv('./data/5233-liquidosexoraca.csv', index=False, sep=\";\")"
   ]
  },
  {
   "cell_type": "code",
   "execution_count": 3,
   "metadata": {},
   "outputs": [
    {
     "data": {
      "text/html": [
       "<div>\n",
       "<style scoped>\n",
       "    .dataframe tbody tr th:only-of-type {\n",
       "        vertical-align: middle;\n",
       "    }\n",
       "\n",
       "    .dataframe tbody tr th {\n",
       "        vertical-align: top;\n",
       "    }\n",
       "\n",
       "    .dataframe thead th {\n",
       "        text-align: right;\n",
       "    }\n",
       "</style>\n",
       "<table border=\"1\" class=\"dataframe\">\n",
       "  <thead>\n",
       "    <tr style=\"text-align: right;\">\n",
       "      <th></th>\n",
       "      <th>ano</th>\n",
       "      <th>sexo_raça</th>\n",
       "      <th>liquido</th>\n",
       "    </tr>\n",
       "  </thead>\n",
       "  <tbody>\n",
       "    <tr>\n",
       "      <th>0</th>\n",
       "      <td>1999</td>\n",
       "      <td>Homem Branco</td>\n",
       "      <td>6527,2</td>\n",
       "    </tr>\n",
       "    <tr>\n",
       "      <th>1</th>\n",
       "      <td>1999</td>\n",
       "      <td>Homem Negro</td>\n",
       "      <td>4768,7</td>\n",
       "    </tr>\n",
       "    <tr>\n",
       "      <th>2</th>\n",
       "      <td>1999</td>\n",
       "      <td>Mulher Branca</td>\n",
       "      <td>5261,6</td>\n",
       "    </tr>\n",
       "    <tr>\n",
       "      <th>3</th>\n",
       "      <td>1999</td>\n",
       "      <td>Mulher Negra</td>\n",
       "      <td>4010</td>\n",
       "    </tr>\n",
       "    <tr>\n",
       "      <th>4</th>\n",
       "      <td>2000</td>\n",
       "      <td>Homem Branco</td>\n",
       "      <td>5690,3</td>\n",
       "    </tr>\n",
       "  </tbody>\n",
       "</table>\n",
       "</div>"
      ],
      "text/plain": [
       "    ano      sexo_raça liquido\n",
       "0  1999   Homem Branco  6527,2\n",
       "1  1999    Homem Negro  4768,7\n",
       "2  1999  Mulher Branca  5261,6\n",
       "3  1999   Mulher Negra    4010\n",
       "4  2000   Homem Branco  5690,3"
      ]
     },
     "execution_count": 3,
     "metadata": {},
     "output_type": "execute_result"
    }
   ],
   "source": [
    "# Carrega dados no dataframe \n",
    "df = pd.read_csv('./data/5233-liquidosexoraca.csv', sep=';', index_col=None, usecols=['ano', 'sexo_raça', 'liquido'])\n",
    "df.head()"
   ]
  },
  {
   "cell_type": "markdown",
   "metadata": {},
   "source": [
    "### Tratando dados"
   ]
  },
  {
   "cell_type": "code",
   "execution_count": 4,
   "metadata": {},
   "outputs": [
    {
     "data": {
      "text/plain": [
       "ano           int64\n",
       "sexo_raça    object\n",
       "liquido      object\n",
       "dtype: object"
      ]
     },
     "execution_count": 4,
     "metadata": {},
     "output_type": "execute_result"
    }
   ],
   "source": [
    "# Checando tipo dos dados\n",
    "df.dtypes"
   ]
  },
  {
   "cell_type": "code",
   "execution_count": 5,
   "metadata": {},
   "outputs": [
    {
     "data": {
      "text/html": [
       "<div>\n",
       "<style scoped>\n",
       "    .dataframe tbody tr th:only-of-type {\n",
       "        vertical-align: middle;\n",
       "    }\n",
       "\n",
       "    .dataframe tbody tr th {\n",
       "        vertical-align: top;\n",
       "    }\n",
       "\n",
       "    .dataframe thead th {\n",
       "        text-align: right;\n",
       "    }\n",
       "</style>\n",
       "<table border=\"1\" class=\"dataframe\">\n",
       "  <thead>\n",
       "    <tr style=\"text-align: right;\">\n",
       "      <th></th>\n",
       "      <th>ano</th>\n",
       "      <th>sexo_raça</th>\n",
       "      <th>liquido</th>\n",
       "    </tr>\n",
       "  </thead>\n",
       "  <tbody>\n",
       "    <tr>\n",
       "      <th>0</th>\n",
       "      <td>1999</td>\n",
       "      <td>Homem Branco</td>\n",
       "      <td>6527.2</td>\n",
       "    </tr>\n",
       "    <tr>\n",
       "      <th>1</th>\n",
       "      <td>1999</td>\n",
       "      <td>Homem Negro</td>\n",
       "      <td>4768.7</td>\n",
       "    </tr>\n",
       "    <tr>\n",
       "      <th>2</th>\n",
       "      <td>1999</td>\n",
       "      <td>Mulher Branca</td>\n",
       "      <td>5261.6</td>\n",
       "    </tr>\n",
       "    <tr>\n",
       "      <th>3</th>\n",
       "      <td>1999</td>\n",
       "      <td>Mulher Negra</td>\n",
       "      <td>4010.0</td>\n",
       "    </tr>\n",
       "    <tr>\n",
       "      <th>4</th>\n",
       "      <td>2000</td>\n",
       "      <td>Homem Branco</td>\n",
       "      <td>5690.3</td>\n",
       "    </tr>\n",
       "  </tbody>\n",
       "</table>\n",
       "</div>"
      ],
      "text/plain": [
       "    ano      sexo_raça  liquido\n",
       "0  1999   Homem Branco   6527.2\n",
       "1  1999    Homem Negro   4768.7\n",
       "2  1999  Mulher Branca   5261.6\n",
       "3  1999   Mulher Negra   4010.0\n",
       "4  2000   Homem Branco   5690.3"
      ]
     },
     "execution_count": 5,
     "metadata": {},
     "output_type": "execute_result"
    }
   ],
   "source": [
    "# Tratando dados numéricos\n",
    "df['liquido'] = df['liquido'].astype(str)\n",
    "df['liquido'] = df['liquido'].str.replace(',', '.')\n",
    "df['liquido'] = df['liquido'].astype(float)\n",
    "df.head()"
   ]
  },
  {
   "cell_type": "code",
   "execution_count": 6,
   "metadata": {},
   "outputs": [
    {
     "data": {
      "text/plain": [
       "ano            int64\n",
       "sexo_raça     object\n",
       "liquido      float64\n",
       "dtype: object"
      ]
     },
     "execution_count": 6,
     "metadata": {},
     "output_type": "execute_result"
    }
   ],
   "source": [
    "# Checando se conversão deu certo\n",
    "df.dtypes"
   ]
  },
  {
   "cell_type": "markdown",
   "metadata": {},
   "source": [
    "### Estudando dados"
   ]
  },
  {
   "cell_type": "code",
   "execution_count": 7,
   "metadata": {},
   "outputs": [
    {
     "name": "stdout",
     "output_type": "stream",
     "text": [
      "'Mulher Negra':\n",
      "Maior salário: R$ 6335.1 [2014]\n",
      "Menor salário: R$ 3734.5 [2001]\n",
      "Salário médio: R$ 5066.8\n",
      "\n",
      "'Mulher Branca':\n",
      "Maior salário: R$ 8321.2 [2014]\n",
      "Menor salário: R$ 4887.3 [2000]\n",
      "Salário médio: R$ 6718.9\n",
      "\n",
      "'Homem Branco':\n",
      "Maior salário: R$ 9279.1 [2014]\n",
      "Menor salário: R$ 5690.3 [2000]\n",
      "Salário médio: R$ 7738.2\n",
      "\n",
      "'Homem Negro':\n",
      "Maior salário: R$ 6591.9 [2017]\n",
      "Menor salário: R$ 4107.2 [2001]\n",
      "Salário médio: R$ 5460.0\n",
      "\n"
     ]
    }
   ],
   "source": [
    "# Maior, menor e salário médio por grupo\n",
    "grupos = {'Homem Branco', 'Homem Negro', 'Mulher Branca', 'Mulher Negra'}\n",
    "\n",
    "for i in grupos:\n",
    "    sel = df.loc[df['sexo_raça'] == i]\n",
    "    max_sal = max(sel['liquido'])\n",
    "    ano_max_sal = sel.loc[sel['liquido'] ==  max_sal, 'ano'].values\n",
    "    min_sal = min(sel['liquido'])\n",
    "    ano_min_sal = sel.loc[sel['liquido'] ==  min_sal, 'ano'].values\n",
    "    mean_sal = np.mean(sel['liquido']).round(decimals = 1)\n",
    "    print(\"'\" + i + \"':\")\n",
    "    print('Maior salário: R$ ' + str(max_sal) + ' ' + str(ano_max_sal))\n",
    "    print('Menor salário: R$ ' + str(min_sal) + ' ' + str(ano_min_sal))\n",
    "    print('Salário médio: R$ ' + str(mean_sal) + '\\n')"
   ]
  },
  {
   "cell_type": "code",
   "execution_count": 8,
   "metadata": {},
   "outputs": [
    {
     "data": {
      "text/html": [
       "<div>\n",
       "<style scoped>\n",
       "    .dataframe tbody tr th:only-of-type {\n",
       "        vertical-align: middle;\n",
       "    }\n",
       "\n",
       "    .dataframe tbody tr th {\n",
       "        vertical-align: top;\n",
       "    }\n",
       "\n",
       "    .dataframe thead th {\n",
       "        text-align: right;\n",
       "    }\n",
       "</style>\n",
       "<table border=\"1\" class=\"dataframe\">\n",
       "  <thead>\n",
       "    <tr style=\"text-align: right;\">\n",
       "      <th>sexo_raça</th>\n",
       "      <th>Homem Branco</th>\n",
       "      <th>Homem Negro</th>\n",
       "      <th>Mulher Branca</th>\n",
       "      <th>Mulher Negra</th>\n",
       "    </tr>\n",
       "    <tr>\n",
       "      <th>ano</th>\n",
       "      <th></th>\n",
       "      <th></th>\n",
       "      <th></th>\n",
       "      <th></th>\n",
       "    </tr>\n",
       "  </thead>\n",
       "  <tbody>\n",
       "    <tr>\n",
       "      <th>1999</th>\n",
       "      <td>6527.2</td>\n",
       "      <td>4768.7</td>\n",
       "      <td>5261.6</td>\n",
       "      <td>4010.0</td>\n",
       "    </tr>\n",
       "    <tr>\n",
       "      <th>2000</th>\n",
       "      <td>5690.3</td>\n",
       "      <td>4151.7</td>\n",
       "      <td>4887.3</td>\n",
       "      <td>3782.5</td>\n",
       "    </tr>\n",
       "    <tr>\n",
       "      <th>2001</th>\n",
       "      <td>5833.8</td>\n",
       "      <td>4107.2</td>\n",
       "      <td>4997.5</td>\n",
       "      <td>3734.5</td>\n",
       "    </tr>\n",
       "    <tr>\n",
       "      <th>2002</th>\n",
       "      <td>6407.0</td>\n",
       "      <td>4489.6</td>\n",
       "      <td>5429.7</td>\n",
       "      <td>4069.7</td>\n",
       "    </tr>\n",
       "    <tr>\n",
       "      <th>2003</th>\n",
       "      <td>6133.3</td>\n",
       "      <td>4297.4</td>\n",
       "      <td>5171.9</td>\n",
       "      <td>3856.7</td>\n",
       "    </tr>\n",
       "    <tr>\n",
       "      <th>2004</th>\n",
       "      <td>5902.9</td>\n",
       "      <td>4372.2</td>\n",
       "      <td>4963.7</td>\n",
       "      <td>3862.0</td>\n",
       "    </tr>\n",
       "    <tr>\n",
       "      <th>2005</th>\n",
       "      <td>6314.4</td>\n",
       "      <td>4558.0</td>\n",
       "      <td>5298.2</td>\n",
       "      <td>4036.4</td>\n",
       "    </tr>\n",
       "    <tr>\n",
       "      <th>2006</th>\n",
       "      <td>6227.3</td>\n",
       "      <td>4368.9</td>\n",
       "      <td>5269.9</td>\n",
       "      <td>3958.6</td>\n",
       "    </tr>\n",
       "    <tr>\n",
       "      <th>2007</th>\n",
       "      <td>7049.0</td>\n",
       "      <td>4815.0</td>\n",
       "      <td>5822.3</td>\n",
       "      <td>4311.5</td>\n",
       "    </tr>\n",
       "    <tr>\n",
       "      <th>2008</th>\n",
       "      <td>7220.2</td>\n",
       "      <td>4914.5</td>\n",
       "      <td>5946.1</td>\n",
       "      <td>4352.3</td>\n",
       "    </tr>\n",
       "    <tr>\n",
       "      <th>2009</th>\n",
       "      <td>8347.7</td>\n",
       "      <td>5653.5</td>\n",
       "      <td>7049.5</td>\n",
       "      <td>5127.9</td>\n",
       "    </tr>\n",
       "    <tr>\n",
       "      <th>2010</th>\n",
       "      <td>9115.6</td>\n",
       "      <td>6316.7</td>\n",
       "      <td>8005.6</td>\n",
       "      <td>5975.1</td>\n",
       "    </tr>\n",
       "    <tr>\n",
       "      <th>2011</th>\n",
       "      <td>9200.9</td>\n",
       "      <td>6330.2</td>\n",
       "      <td>8153.7</td>\n",
       "      <td>6083.6</td>\n",
       "    </tr>\n",
       "    <tr>\n",
       "      <th>2012</th>\n",
       "      <td>8757.8</td>\n",
       "      <td>6110.5</td>\n",
       "      <td>7843.2</td>\n",
       "      <td>5905.8</td>\n",
       "    </tr>\n",
       "    <tr>\n",
       "      <th>2013</th>\n",
       "      <td>8832.8</td>\n",
       "      <td>6195.6</td>\n",
       "      <td>7964.9</td>\n",
       "      <td>6045.5</td>\n",
       "    </tr>\n",
       "    <tr>\n",
       "      <th>2014</th>\n",
       "      <td>9279.1</td>\n",
       "      <td>6532.7</td>\n",
       "      <td>8321.2</td>\n",
       "      <td>6335.1</td>\n",
       "    </tr>\n",
       "    <tr>\n",
       "      <th>2015</th>\n",
       "      <td>8996.8</td>\n",
       "      <td>6304.3</td>\n",
       "      <td>7953.9</td>\n",
       "      <td>6047.9</td>\n",
       "    </tr>\n",
       "    <tr>\n",
       "      <th>2016</th>\n",
       "      <td>8506.6</td>\n",
       "      <td>6110.6</td>\n",
       "      <td>7647.4</td>\n",
       "      <td>5875.2</td>\n",
       "    </tr>\n",
       "    <tr>\n",
       "      <th>2017</th>\n",
       "      <td>9186.3</td>\n",
       "      <td>6591.9</td>\n",
       "      <td>8144.7</td>\n",
       "      <td>6239.3</td>\n",
       "    </tr>\n",
       "    <tr>\n",
       "      <th>2018</th>\n",
       "      <td>8893.2</td>\n",
       "      <td>6403.8</td>\n",
       "      <td>7952.3</td>\n",
       "      <td>6048.9</td>\n",
       "    </tr>\n",
       "    <tr>\n",
       "      <th>2019</th>\n",
       "      <td>9044.7</td>\n",
       "      <td>6454.7</td>\n",
       "      <td>7977.5</td>\n",
       "      <td>5996.2</td>\n",
       "    </tr>\n",
       "    <tr>\n",
       "      <th>2020</th>\n",
       "      <td>8774.2</td>\n",
       "      <td>6272.2</td>\n",
       "      <td>7753.8</td>\n",
       "      <td>5815.5</td>\n",
       "    </tr>\n",
       "  </tbody>\n",
       "</table>\n",
       "</div>"
      ],
      "text/plain": [
       "sexo_raça  Homem Branco  Homem Negro  Mulher Branca  Mulher Negra\n",
       "ano                                                              \n",
       "1999             6527.2       4768.7         5261.6        4010.0\n",
       "2000             5690.3       4151.7         4887.3        3782.5\n",
       "2001             5833.8       4107.2         4997.5        3734.5\n",
       "2002             6407.0       4489.6         5429.7        4069.7\n",
       "2003             6133.3       4297.4         5171.9        3856.7\n",
       "2004             5902.9       4372.2         4963.7        3862.0\n",
       "2005             6314.4       4558.0         5298.2        4036.4\n",
       "2006             6227.3       4368.9         5269.9        3958.6\n",
       "2007             7049.0       4815.0         5822.3        4311.5\n",
       "2008             7220.2       4914.5         5946.1        4352.3\n",
       "2009             8347.7       5653.5         7049.5        5127.9\n",
       "2010             9115.6       6316.7         8005.6        5975.1\n",
       "2011             9200.9       6330.2         8153.7        6083.6\n",
       "2012             8757.8       6110.5         7843.2        5905.8\n",
       "2013             8832.8       6195.6         7964.9        6045.5\n",
       "2014             9279.1       6532.7         8321.2        6335.1\n",
       "2015             8996.8       6304.3         7953.9        6047.9\n",
       "2016             8506.6       6110.6         7647.4        5875.2\n",
       "2017             9186.3       6591.9         8144.7        6239.3\n",
       "2018             8893.2       6403.8         7952.3        6048.9\n",
       "2019             9044.7       6454.7         7977.5        5996.2\n",
       "2020             8774.2       6272.2         7753.8        5815.5"
      ]
     },
     "execution_count": 8,
     "metadata": {},
     "output_type": "execute_result"
    }
   ],
   "source": [
    "# Tabela ampla ano x grupo\n",
    "df_pivot = pd.pivot_table(df, index='ano', values='liquido', columns='sexo_raça')\n",
    "df_pivot\n"
   ]
  },
  {
   "cell_type": "code",
   "execution_count": 9,
   "metadata": {},
   "outputs": [],
   "source": [
    "# De acordo com infos do IPEA (https://www.ipea.gov.br/atlasestado/consulta/145), valores estão corrigidos para preços de fevereiro de 2020. \n",
    "# Então não faz sentido deflacionar\n",
    "\n",
    "# Não faz sentido separar sexo e raça visto que não temos as ponderações para diferentes agrupamentos\n",
    "\n",
    "# Comparar homem branco com demais categorias\n",
    "\n",
    "# Verificar variação percentual entre 1999 e 2020 por grupo\n",
    "\n",
    "# taxa de crescimento ano a ano, em relação a média total anterior, em relação a própria categoria\n",
    "\n",
    "# No gráfico\n",
    "# Linha em 2006 e 2010 para plato, crescimnto e plato"
   ]
  },
  {
   "cell_type": "code",
   "execution_count": 10,
   "metadata": {},
   "outputs": [
    {
     "data": {
      "image/png": "[encoded data removed]",
      "text/plain": [
       "<Figure size 1008x576 with 1 Axes>"
      ]
     },
     "metadata": {
      "needs_background": "light"
     },
     "output_type": "display_data"
    }
   ],
   "source": [
    "fig, ax = plt.subplots(figsize=(14,8))\n",
    "\n",
    "# df_pivot.set_index(df_pivot['ano'])\n",
    "# df_pivot['Homem Branco'].rolling(3).mean()"
   ]
  },
  {
   "cell_type": "markdown",
   "metadata": {},
   "source": [
    "### Plotando gráfico"
   ]
  },
  {
   "cell_type": "code",
   "execution_count": 11,
   "metadata": {},
   "outputs": [
    {
     "data": {
      "text/plain": [
       "(3000.0, 10000.0)"
      ]
     },
     "execution_count": 11,
     "metadata": {},
     "output_type": "execute_result"
    },
    {
     "data": {
      "image/png": "[encoded data removed]",
      "text/plain": [
       "<Figure size 1008x576 with 1 Axes>"
      ]
     },
     "metadata": {
      "needs_background": "light"
     },
     "output_type": "display_data"
    }
   ],
   "source": [
    "fig, ax = plt.subplots(figsize=(14,8))\n",
    "plt.suptitle('Remuneração líquida média mensal no Executivo civil federal ativo, por sexo e raça (1999-2020)', size=20)\n",
    "grupos = {'Homem Branco', 'Homem Negro', 'Mulher Branca', 'Mulher Negra'}\n",
    "\n",
    "for i in grupos:\n",
    "    sel = df.loc[df['sexo_raça'] == i]\n",
    "    x = sel['ano']\n",
    "    y = sel['liquido']\n",
    "    plt.plot(x,y, label=i, marker='o')\n",
    "handles, labels = ax.get_legend_handles_labels()\n",
    "handles = [handles[2], handles[3], handles[0], handles[1]]\n",
    "labels = [labels[2], labels[3], labels[0], labels[1]]\n",
    "plt.legend(handles, labels)\n",
    "plt.grid(True, linestyle=':')\n",
    "plt.xlabel('Ano')\n",
    "plt.ylabel('Remuneração líquida mensal')\n",
    "plt.ylim(3000,10000)"
   ]
  }
 ],
 "metadata": {
  "interpreter": {
   "hash": "f067eefafc2f631718ba99b3ef15a653a1693da1a41a0f22a47804809b4f90ae"
  },
  "kernelspec": {
   "display_name": "Python 3.10.3 ('venv': venv)",
   "language": "python",
   "name": "python3"
  },
  "language_info": {
   "codemirror_mode": {
    "name": "ipython",
    "version": 3
   },
   "file_extension": ".py",
   "mimetype": "text/x-python",
   "name": "python",
   "nbconvert_exporter": "python",
   "pygments_lexer": "ipython3",
   "version": "3.10.3"
  },
  "orig_nbformat": 4
 },
 "nbformat": 4,
 "nbformat_minor": 2
}
